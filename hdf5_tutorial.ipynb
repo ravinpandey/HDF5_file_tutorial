{
 "cells": [
  {
   "cell_type": "code",
   "execution_count": 2,
   "metadata": {},
   "outputs": [],
   "source": [
    "import numpy as np\n",
    "import h5py"
   ]
  },
  {
   "cell_type": "markdown",
   "metadata": {},
   "source": [
    "# Creating matrix data"
   ]
  },
  {
   "cell_type": "code",
   "execution_count": 3,
   "metadata": {},
   "outputs": [],
   "source": [
    "matrix1=np.random.random(size=(1000,1000))\n",
    "matrix2=np.random.random(size=(10000,100))"
   ]
  },
  {
   "cell_type": "code",
   "execution_count": 4,
   "metadata": {},
   "outputs": [],
   "source": [
    "with h5py.File('hdf5_data.h5','w') as hdf:\n",
    "    hdf.create_dataset('dataset1',data=matrix1)\n",
    "    hdf.create_dataset('dataset2',data=matrix2)\n"
   ]
  },
  {
   "cell_type": "markdown",
   "metadata": {},
   "source": [
    "# Reading Data from a file"
   ]
  },
  {
   "cell_type": "code",
   "execution_count": 6,
   "metadata": {},
   "outputs": [
    {
     "name": "stdout",
     "output_type": "stream",
     "text": [
      "List of dataset file in this file ['dataset1', 'dataset2']\n",
      "shape of dataset1:\n",
      " (1000, 1000)\n"
     ]
    }
   ],
   "source": [
    "with h5py.File('hdf5_data.h5','r') as hdf:\n",
    "    ls=list(hdf.keys())\n",
    "    print(\"List of dataset file in this file\",ls)\n",
    "    data=hdf.get('dataset1')\n",
    "    dataset1=np.array(data)\n",
    "    print('shape of dataset1:\\n',dataset1.shape)"
   ]
  },
  {
   "cell_type": "code",
   "execution_count": 8,
   "metadata": {},
   "outputs": [
    {
     "name": "stdout",
     "output_type": "stream",
     "text": [
      "['dataset1', 'dataset2']\n"
     ]
    }
   ],
   "source": [
    "f=h5py.File('hdf5_data.h5','r')\n",
    "ls=list(f.keys())\n",
    "print(ls)\n",
    "f.close()"
   ]
  },
  {
   "cell_type": "code",
   "execution_count": 11,
   "metadata": {},
   "outputs": [
    {
     "data": {
      "text/plain": [
       "array([[0.20132611, 0.68578503, 0.84086683, ..., 0.35515977, 0.66585747,\n",
       "        0.70699371],\n",
       "       [0.31451874, 0.54648382, 0.10658811, ..., 0.43925063, 0.0941639 ,\n",
       "        0.99428688],\n",
       "       [0.10618247, 0.38049393, 0.91538485, ..., 0.37897668, 0.68086516,\n",
       "        0.71731264],\n",
       "       ...,\n",
       "       [0.67027327, 0.82326684, 0.6783787 , ..., 0.21932463, 0.1150567 ,\n",
       "        0.7880956 ],\n",
       "       [0.33806714, 0.53288765, 0.39568457, ..., 0.48761209, 0.59682753,\n",
       "        0.75211469],\n",
       "       [0.98167493, 0.39812935, 0.48461909, ..., 0.59913423, 0.62056932,\n",
       "        0.15857975]])"
      ]
     },
     "execution_count": 11,
     "metadata": {},
     "output_type": "execute_result"
    }
   ],
   "source": [
    "dataset1"
   ]
  },
  {
   "cell_type": "markdown",
   "metadata": {},
   "source": [
    "# Creating HDF5 group"
   ]
  },
  {
   "cell_type": "code",
   "execution_count": 12,
   "metadata": {},
   "outputs": [],
   "source": [
    "matrix1=np.random.random(size=(1000,100))\n",
    "matrix2=np.random.random(size=(10000,100))\n",
    "matrix3=np.random.random(size=(1000,1000))\n",
    "matrix4=np.random.random(size=(1000,1000))"
   ]
  },
  {
   "cell_type": "code",
   "execution_count": 14,
   "metadata": {},
   "outputs": [],
   "source": [
    "with h5py.File('hdf_data.h5','w') as hdf:\n",
    "    G1=hdf.create_group('Group1')\n",
    "    G1.create_dataset('dataset1',data=matrix4)\n",
    "    G1.create_dataset('dataset4',data=matrix1)\n",
    "\n",
    "    G2=hdf.create_group('Group2/Subgroup1')\n",
    "    G2.create_dataset('dataset3',data=matrix3)\n",
    "    \n",
    "    G3=hdf.create_group('Group2/Subgroup2')\n",
    "    G3.create_dataset('dataset2',data=matrix2)"
   ]
  },
  {
   "cell_type": "markdown",
   "metadata": {},
   "source": [
    "# Reading group data"
   ]
  },
  {
   "cell_type": "code",
   "execution_count": 27,
   "metadata": {},
   "outputs": [
    {
     "name": "stdout",
     "output_type": "stream",
     "text": [
      "Items in the base directory: [('Group1', <HDF5 group \"/Group1\" (2 members)>), ('Group2', <HDF5 group \"/Group2\" (2 members)>)]\n",
      "list of items in group1 [('dataset1', <HDF5 dataset \"dataset1\": shape (1000, 1000), type \"<f8\">), ('dataset4', <HDF5 dataset \"dataset4\": shape (1000, 100), type \"<f8\">)]\n",
      "(1000, 100)\n"
     ]
    }
   ],
   "source": [
    "with h5py.File(\"hdf_data.h5\",\"r\") as hdf:\n",
    "    base_items=list(hdf.items())\n",
    "    print('Items in the base directory:',base_items)\n",
    "    G1=hdf.get('Group1')\n",
    "    G1_items=list(G1.items())\n",
    "    print(\"list of items in group1\",G1_items)\n",
    "    dataset4=np.array(G1.get('dataset4'))\n",
    "    print(dataset4.shape)\n",
    "    G2=hdf.get('Group2')\n",
    "    G2_items=list(G2.items())\n",
    "    G21=G2.get('/Group2/Subgroup1')\n",
    "    G21_items=list(G21.items())"
   ]
  },
  {
   "cell_type": "markdown",
   "metadata": {},
   "source": [
    "# Compressing a file "
   ]
  },
  {
   "cell_type": "code",
   "execution_count": 28,
   "metadata": {},
   "outputs": [],
   "source": [
    "with h5py.File('hdf_data_compressed.h5','w') as hdf:\n",
    "    G1=hdf.create_group('Group1')\n",
    "    G1.create_dataset('dataset1',compression=\"gzip\" ,data=matrix4)\n",
    "    G1.create_dataset('dataset4',compression=\"gzip\",data=matrix1)\n",
    "\n",
    "    G2=hdf.create_group('Group2/Subgroup1')\n",
    "    G2.create_dataset('dataset3',compression=\"gzip\",data=matrix3)\n",
    "    \n",
    "    G3=hdf.create_group('Group2/Subgroup2')\n",
    "    G3.create_dataset('dataset2',compression=\"gzip\",data=matrix2)"
   ]
  },
  {
   "cell_type": "markdown",
   "metadata": {},
   "source": [
    "# pandas and HDF5"
   ]
  },
  {
   "cell_type": "code",
   "execution_count": 29,
   "metadata": {},
   "outputs": [],
   "source": [
    "import pandas as pd"
   ]
  },
  {
   "cell_type": "code",
   "execution_count": 32,
   "metadata": {},
   "outputs": [],
   "source": [
    "hdf=pd.HDFStore('hdf5_pandas.h5')"
   ]
  },
  {
   "cell_type": "code",
   "execution_count": 34,
   "metadata": {},
   "outputs": [],
   "source": [
    "data={\n",
    "    'a':[1,2,3,4,5],\n",
    "    'b':[0,1,2,3,4],\n",
    "    'c':['a','b','c','d','e']\n",
    "}"
   ]
  },
  {
   "cell_type": "code",
   "execution_count": 35,
   "metadata": {},
   "outputs": [],
   "source": [
    "df=pd.DataFrame(data,columns=['a','b','c'])"
   ]
  },
  {
   "cell_type": "code",
   "execution_count": 36,
   "metadata": {},
   "outputs": [
    {
     "data": {
      "text/html": [
       "<div>\n",
       "<style scoped>\n",
       "    .dataframe tbody tr th:only-of-type {\n",
       "        vertical-align: middle;\n",
       "    }\n",
       "\n",
       "    .dataframe tbody tr th {\n",
       "        vertical-align: top;\n",
       "    }\n",
       "\n",
       "    .dataframe thead th {\n",
       "        text-align: right;\n",
       "    }\n",
       "</style>\n",
       "<table border=\"1\" class=\"dataframe\">\n",
       "  <thead>\n",
       "    <tr style=\"text-align: right;\">\n",
       "      <th></th>\n",
       "      <th>a</th>\n",
       "      <th>b</th>\n",
       "      <th>c</th>\n",
       "    </tr>\n",
       "  </thead>\n",
       "  <tbody>\n",
       "    <tr>\n",
       "      <th>0</th>\n",
       "      <td>1</td>\n",
       "      <td>0</td>\n",
       "      <td>a</td>\n",
       "    </tr>\n",
       "    <tr>\n",
       "      <th>1</th>\n",
       "      <td>2</td>\n",
       "      <td>1</td>\n",
       "      <td>b</td>\n",
       "    </tr>\n",
       "    <tr>\n",
       "      <th>2</th>\n",
       "      <td>3</td>\n",
       "      <td>2</td>\n",
       "      <td>c</td>\n",
       "    </tr>\n",
       "    <tr>\n",
       "      <th>3</th>\n",
       "      <td>4</td>\n",
       "      <td>3</td>\n",
       "      <td>d</td>\n",
       "    </tr>\n",
       "    <tr>\n",
       "      <th>4</th>\n",
       "      <td>5</td>\n",
       "      <td>4</td>\n",
       "      <td>e</td>\n",
       "    </tr>\n",
       "  </tbody>\n",
       "</table>\n",
       "</div>"
      ],
      "text/plain": [
       "   a  b  c\n",
       "0  1  0  a\n",
       "1  2  1  b\n",
       "2  3  2  c\n",
       "3  4  3  d\n",
       "4  5  4  e"
      ]
     },
     "execution_count": 36,
     "metadata": {},
     "output_type": "execute_result"
    }
   ],
   "source": [
    "df"
   ]
  },
  {
   "cell_type": "code",
   "execution_count": 37,
   "metadata": {},
   "outputs": [],
   "source": [
    "hdf.put('DF1',df,format='table',data_columns=True)"
   ]
  },
  {
   "cell_type": "code",
   "execution_count": 38,
   "metadata": {},
   "outputs": [],
   "source": [
    "data={\n",
    "    'a':[1,23,43,4,5],\n",
    "    'b':[0,1,42,43,54],\n",
    "    'c':['a','b','c','d','e']\n",
    "}"
   ]
  },
  {
   "cell_type": "code",
   "execution_count": 39,
   "metadata": {},
   "outputs": [],
   "source": [
    "df1=pd.DataFrame(data,columns=['a','b','c'])"
   ]
  },
  {
   "cell_type": "code",
   "execution_count": 40,
   "metadata": {},
   "outputs": [],
   "source": [
    "hdf.put('DF2',df1,format='table',data_columns=True)"
   ]
  },
  {
   "cell_type": "code",
   "execution_count": 41,
   "metadata": {},
   "outputs": [],
   "source": [
    "hdf.close()"
   ]
  },
  {
   "cell_type": "markdown",
   "metadata": {},
   "source": [
    "# Reading data from hdf5 file using pandas"
   ]
  },
  {
   "cell_type": "code",
   "execution_count": 43,
   "metadata": {},
   "outputs": [],
   "source": [
    "hdf=pd.HDFStore('hdf5_pandas.h5','r')"
   ]
  },
  {
   "cell_type": "code",
   "execution_count": 45,
   "metadata": {},
   "outputs": [
    {
     "data": {
      "text/plain": [
       "[/DF1 (Group) ''\n",
       "   children := ['table' (Table)],\n",
       " /DF2 (Group) ''\n",
       "   children := ['table' (Table)]]"
      ]
     },
     "execution_count": 45,
     "metadata": {},
     "output_type": "execute_result"
    }
   ],
   "source": [
    "hdf.groups()"
   ]
  },
  {
   "cell_type": "code",
   "execution_count": 47,
   "metadata": {},
   "outputs": [],
   "source": [
    "df1=hdf.get('/DF1')"
   ]
  },
  {
   "cell_type": "code",
   "execution_count": 48,
   "metadata": {},
   "outputs": [
    {
     "data": {
      "text/html": [
       "<div>\n",
       "<style scoped>\n",
       "    .dataframe tbody tr th:only-of-type {\n",
       "        vertical-align: middle;\n",
       "    }\n",
       "\n",
       "    .dataframe tbody tr th {\n",
       "        vertical-align: top;\n",
       "    }\n",
       "\n",
       "    .dataframe thead th {\n",
       "        text-align: right;\n",
       "    }\n",
       "</style>\n",
       "<table border=\"1\" class=\"dataframe\">\n",
       "  <thead>\n",
       "    <tr style=\"text-align: right;\">\n",
       "      <th></th>\n",
       "      <th>a</th>\n",
       "      <th>b</th>\n",
       "      <th>c</th>\n",
       "    </tr>\n",
       "  </thead>\n",
       "  <tbody>\n",
       "    <tr>\n",
       "      <th>0</th>\n",
       "      <td>1</td>\n",
       "      <td>0</td>\n",
       "      <td>a</td>\n",
       "    </tr>\n",
       "    <tr>\n",
       "      <th>1</th>\n",
       "      <td>2</td>\n",
       "      <td>1</td>\n",
       "      <td>b</td>\n",
       "    </tr>\n",
       "    <tr>\n",
       "      <th>2</th>\n",
       "      <td>3</td>\n",
       "      <td>2</td>\n",
       "      <td>c</td>\n",
       "    </tr>\n",
       "    <tr>\n",
       "      <th>3</th>\n",
       "      <td>4</td>\n",
       "      <td>3</td>\n",
       "      <td>d</td>\n",
       "    </tr>\n",
       "    <tr>\n",
       "      <th>4</th>\n",
       "      <td>5</td>\n",
       "      <td>4</td>\n",
       "      <td>e</td>\n",
       "    </tr>\n",
       "  </tbody>\n",
       "</table>\n",
       "</div>"
      ],
      "text/plain": [
       "   a  b  c\n",
       "0  1  0  a\n",
       "1  2  1  b\n",
       "2  3  2  c\n",
       "3  4  3  d\n",
       "4  5  4  e"
      ]
     },
     "execution_count": 48,
     "metadata": {},
     "output_type": "execute_result"
    }
   ],
   "source": [
    "df1.head()"
   ]
  },
  {
   "cell_type": "code",
   "execution_count": null,
   "metadata": {},
   "outputs": [],
   "source": []
  }
 ],
 "metadata": {
  "kernelspec": {
   "display_name": "Python 3.6.10 ('rdkit_faiss')",
   "language": "python",
   "name": "python3"
  },
  "language_info": {
   "codemirror_mode": {
    "name": "ipython",
    "version": 3
   },
   "file_extension": ".py",
   "mimetype": "text/x-python",
   "name": "python",
   "nbconvert_exporter": "python",
   "pygments_lexer": "ipython3",
   "version": "3.6.10"
  },
  "orig_nbformat": 4,
  "vscode": {
   "interpreter": {
    "hash": "7f4a664ee71d4bebdf175399ea319574076aa12e60d8f598eeca204eb5dd9faf"
   }
  }
 },
 "nbformat": 4,
 "nbformat_minor": 2
}
